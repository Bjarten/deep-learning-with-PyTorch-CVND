{
 "cells": [
  {
   "cell_type": "markdown",
   "metadata": {},
   "source": [
    "# Classifying Fashion-MNIST\n",
    "\n",
    "Now it's your turn to build and train a neural network. You'll be using the [Fashion-MNIST dataset](https://github.com/zalandoresearch/fashion-mnist), a drop-in replacement for the MNIST dataset. MNIST is actually quite trivial with neural networks where you can easily achieve better than 97% accuracy. Fashion-MNIST is a set of 28x28 greyscale images of clothes. It's more complex than MNIST, so it's a better representation of the actual performance of your network, and a better representation of datasets you'll use in the real world.\n",
    "\n",
    "<img src='assets/fashion-mnist-sprite.png' width=500px>\n",
    "\n",
    "In this notebook, you'll build your own neural network. For the most part, you could just copy and paste the code from Part 3, but you wouldn't be learning. It's important for you to write the code yourself and get it to work. Feel free to consult the previous notebook though as you work through this.\n",
    "\n",
    "First off, let's load the dataset through torchvision."
   ]
  },
  {
   "cell_type": "code",
   "execution_count": 26,
   "metadata": {},
   "outputs": [],
   "source": [
    "import torch\n",
    "from torchvision import datasets, transforms\n",
    "import helper\n",
    "\n",
    "# Define a transform to normalize the data\n",
    "transform = transforms.Compose([transforms.ToTensor(),\n",
    "                                transforms.Normalize((0.5, 0.5, 0.5), (0.5, 0.5, 0.5))])\n",
    "# Download and load the training data\n",
    "trainset = datasets.FashionMNIST('F_MNIST_data/', download=True, train=True, transform=transform)\n",
    "trainloader = torch.utils.data.DataLoader(trainset, batch_size=64, shuffle=True)\n",
    "\n",
    "# Download and load the test data\n",
    "testset = datasets.FashionMNIST('F_MNIST_data/', download=True, train=False, transform=transform)\n",
    "testloader = torch.utils.data.DataLoader(testset, batch_size=64, shuffle=True)"
   ]
  },
  {
   "cell_type": "markdown",
   "metadata": {},
   "source": [
    "Here we can see one of the images."
   ]
  },
  {
   "cell_type": "code",
   "execution_count": 27,
   "metadata": {},
   "outputs": [
    {
     "data": {
      "image/png": "[encoded data removed]",
      "text/plain": [
       "<matplotlib.figure.Figure at 0x11a15dd30>"
      ]
     },
     "metadata": {
      "image/png": {
       "height": 233,
       "width": 233
      },
      "needs_background": "light"
     },
     "output_type": "display_data"
    }
   ],
   "source": [
    "image, label = next(iter(trainloader))\n",
    "helper.imshow(image[0,:]);"
   ]
  },
  {
   "cell_type": "markdown",
   "metadata": {},
   "source": [
    "With the data loaded, it's time to import the necessary packages."
   ]
  },
  {
   "cell_type": "code",
   "execution_count": 28,
   "metadata": {},
   "outputs": [],
   "source": [
    "%matplotlib inline\n",
    "%config InlineBackend.figure_format = 'retina'\n",
    "\n",
    "from collections import OrderedDict\n",
    "\n",
    "import matplotlib.pyplot as plt\n",
    "import numpy as np\n",
    "import time\n",
    "\n",
    "import torch\n",
    "from torch import nn\n",
    "from torch import optim\n",
    "import torch.nn.functional as F\n",
    "from torchvision import datasets, transforms\n",
    "\n",
    "import helper"
   ]
  },
  {
   "cell_type": "markdown",
   "metadata": {},
   "source": [
    "## Building the network\n",
    "\n",
    "Here you should define your network. As with MNIST, each image is 28x28 which is a total of 784 pixels, and there are 10 classes. You should include at least one hidden layer. We suggest you use ReLU activations for the layers and to return the logits from the forward pass. It's up to you how many layers you add and the size of those layers."
   ]
  },
  {
   "cell_type": "markdown",
   "metadata": {},
   "source": [
    "# Train the network\n",
    "\n",
    "Now you should create your network and train it. First you'll want to define [the criterion](http://pytorch.org/docs/master/nn.html#loss-functions) ( something like `nn.CrossEntropyLoss`) and [the optimizer](http://pytorch.org/docs/master/optim.html) (typically `optim.SGD` or `optim.Adam`).\n",
    "\n",
    "Then write the training code. Remember the training pass is a fairly straightforward process:\n",
    "\n",
    "* Make a forward pass through the network to get the logits \n",
    "* Use the logits to calculate the loss\n",
    "* Perform a backward pass through the network with `loss.backward()` to calculate the gradients\n",
    "* Take a step with the optimizer to update the weights\n",
    "\n",
    "By adjusting the hyperparameters (hidden units, learning rate, etc), you should be able to get the training loss below 0.4."
   ]
  },
  {
   "cell_type": "markdown",
   "metadata": {},
   "source": [
    "## Define the network"
   ]
  },
  {
   "cell_type": "code",
   "execution_count": 50,
   "metadata": {},
   "outputs": [],
   "source": [
    "## Hyperparameters for our network\n",
    "\n",
    "# Find the height of the input image \n",
    "height = np.shape(trainset.train_data[0])[0]\n",
    "# Find the width of the input image \n",
    "width = np.shape(trainset.train_data[0])[1]\n",
    "\n",
    "input_size = height*width\n",
    "hidden_sizes = [128, 128, 64]\n",
    "output_sizes = 10\n",
    "\n",
    "# Build the feed-forward network\n",
    "model = nn.Sequential(OrderedDict(OrderedDict([\n",
    "                      ('fc1', nn.Linear(input_size, hidden_sizes[0])),\n",
    "                      ('relu1', nn.ReLU()),\n",
    "                      ('fc2', nn.Linear(hidden_sizes[0], hidden_sizes[1])),\n",
    "                      ('relu2', nn.ReLU()),\n",
    "                      ('fc3', nn.Linear(hidden_sizes[1], hidden_sizes[2])),\n",
    "                      ('relu3', nn.ReLU()),\n",
    "                      ('logits', nn.Linear(hidden_sizes[2], output_size))])))\n",
    "\n"
   ]
  },
  {
   "cell_type": "markdown",
   "metadata": {},
   "source": [
    "## Define loss and optimization function"
   ]
  },
  {
   "cell_type": "code",
   "execution_count": 51,
   "metadata": {},
   "outputs": [],
   "source": [
    "# Create the network, define the criterion and optimizer\n",
    "criterion = nn.CrossEntropyLoss()\n",
    "optimizer = optim.Adam(model.parameters()) "
   ]
  },
  {
   "cell_type": "markdown",
   "metadata": {},
   "source": [
    "## Train and test the network "
   ]
  },
  {
   "cell_type": "code",
   "execution_count": 52,
   "metadata": {},
   "outputs": [
    {
     "name": "stdout",
     "output_type": "stream",
     "text": [
      "Epoch: 1/3...  Loss: 1.3435\n",
      "Epoch: 1/3...  Loss: 0.7163\n",
      "Epoch: 1/3...  Loss: 0.6693\n",
      "Epoch: 1/3...  Loss: 0.6006\n",
      "Epoch: 1/3...  Loss: 0.5794\n",
      "Epoch: 1/3...  Loss: 0.5500\n",
      "Epoch: 1/3...  Loss: 0.5076\n",
      "Epoch: 1/3...  Loss: 0.5127\n",
      "Epoch: 1/3...  Loss: 0.5038\n",
      "Epoch: 1/3...  Loss: 0.5078\n",
      "Epoch: 1/3...  Loss: 0.4661\n",
      "Epoch: 1/3...  Loss: 0.4771\n",
      "Epoch: 1/3...  Loss: 0.4599\n",
      "Epoch: 1/3...  Loss: 0.4677\n",
      "Epoch: 1/3...  Loss: 0.4787\n",
      "Epoch: 1/3...  Loss: 0.4494\n",
      "Epoch: 1/3...  Loss: 0.4877\n",
      "Epoch: 1/3...  Loss: 0.4499\n",
      "Epoch: 1/3...  Loss: 0.4112\n",
      "Epoch: 1/3...  Loss: 0.4131\n",
      "Epoch: 1/3...  Loss: 0.4271\n",
      "Epoch: 1/3...  Loss: 0.4108\n",
      "Epoch: 1/3...  Loss: 0.3894\n",
      "Epoch: 2/3...  Loss: 0.2210\n",
      "Epoch: 2/3...  Loss: 0.4124\n",
      "Epoch: 2/3...  Loss: 0.4038\n",
      "Epoch: 2/3...  Loss: 0.3942\n",
      "Epoch: 2/3...  Loss: 0.3763\n",
      "Epoch: 2/3...  Loss: 0.3838\n",
      "Epoch: 2/3...  Loss: 0.3989\n",
      "Epoch: 2/3...  Loss: 0.3960\n",
      "Epoch: 2/3...  Loss: 0.4076\n",
      "Epoch: 2/3...  Loss: 0.4031\n",
      "Epoch: 2/3...  Loss: 0.3803\n",
      "Epoch: 2/3...  Loss: 0.3610\n",
      "Epoch: 2/3...  Loss: 0.3757\n",
      "Epoch: 2/3...  Loss: 0.3838\n",
      "Epoch: 2/3...  Loss: 0.4025\n",
      "Epoch: 2/3...  Loss: 0.3899\n",
      "Epoch: 2/3...  Loss: 0.3823\n",
      "Epoch: 2/3...  Loss: 0.3691\n",
      "Epoch: 2/3...  Loss: 0.3479\n",
      "Epoch: 2/3...  Loss: 0.3345\n",
      "Epoch: 2/3...  Loss: 0.3868\n",
      "Epoch: 2/3...  Loss: 0.3750\n",
      "Epoch: 2/3...  Loss: 0.3792\n",
      "Epoch: 3/3...  Loss: 0.0381\n",
      "Epoch: 3/3...  Loss: 0.3213\n",
      "Epoch: 3/3...  Loss: 0.3669\n",
      "Epoch: 3/3...  Loss: 0.3589\n",
      "Epoch: 3/3...  Loss: 0.3746\n",
      "Epoch: 3/3...  Loss: 0.3503\n",
      "Epoch: 3/3...  Loss: 0.3530\n",
      "Epoch: 3/3...  Loss: 0.3372\n",
      "Epoch: 3/3...  Loss: 0.3802\n",
      "Epoch: 3/3...  Loss: 0.3400\n",
      "Epoch: 3/3...  Loss: 0.3331\n",
      "Epoch: 3/3...  Loss: 0.3551\n",
      "Epoch: 3/3...  Loss: 0.3472\n",
      "Epoch: 3/3...  Loss: 0.3485\n",
      "Epoch: 3/3...  Loss: 0.3214\n",
      "Epoch: 3/3...  Loss: 0.3346\n",
      "Epoch: 3/3...  Loss: 0.3338\n",
      "Epoch: 3/3...  Loss: 0.3672\n",
      "Epoch: 3/3...  Loss: 0.3478\n",
      "Epoch: 3/3...  Loss: 0.3343\n",
      "Epoch: 3/3...  Loss: 0.3484\n",
      "Epoch: 3/3...  Loss: 0.3482\n",
      "Epoch: 3/3...  Loss: 0.3348\n",
      "Epoch: 3/3...  Loss: 0.3406\n"
     ]
    }
   ],
   "source": [
    "epochs = 3\n",
    "print_every = 40\n",
    "steps = 0\n",
    "for e in range(epochs):\n",
    "    running_loss = 0\n",
    "    for images, labels in iter(trainloader):\n",
    "        steps += 1\n",
    "        # Flatten MNIST images into a 784 long vector\n",
    "        images.resize_(images.size()[0], 784)\n",
    "        \n",
    "        optimizer.zero_grad()\n",
    "        \n",
    "        # Forward and backward passes\n",
    "        output = model.forward(images)\n",
    "        loss = criterion(output, labels)\n",
    "        loss.backward()\n",
    "        optimizer.step()\n",
    "        \n",
    "        running_loss += loss.item()\n",
    "        \n",
    "        if steps % print_every == 0:\n",
    "            print(\"Epoch: {}/{}... \".format(e+1, epochs),\n",
    "                  \"Loss: {:.4f}\".format(running_loss/print_every))\n",
    "            \n",
    "            running_loss = 0"
   ]
  },
  {
   "cell_type": "code",
   "execution_count": 62,
   "metadata": {},
   "outputs": [
    {
     "data": {
      "image/png": "[encoded data removed]",
      "text/plain": [
       "<matplotlib.figure.Figure at 0x10a995160>"
      ]
     },
     "metadata": {
      "image/png": {
       "height": 204,
       "width": 423
      },
      "needs_background": "light"
     },
     "output_type": "display_data"
    }
   ],
   "source": [
    "# Test out your network!\n",
    "\n",
    "dataiter = iter(testloader)\n",
    "images, labels = dataiter.next()\n",
    "img = images[0]\n",
    "# Convert 2D image to 1D vector\n",
    "img = img.resize_(1, 784)\n",
    "\n",
    "# Turn off gradients to speed up this part\n",
    "with torch.no_grad():\n",
    "    logits = model.forward(img)\n",
    "\n",
    "# Calculate the class probabilities (softmax) for img\n",
    "ps = F.softmax(logits, dim=1)\n",
    "\n",
    "# Plot the image and probabilities\n",
    "helper.view_classify(img.resize_(1, 28, 28), ps, version='Fashion')"
   ]
  },
  {
   "cell_type": "markdown",
   "metadata": {},
   "source": [
    "Now that your network is trained, you'll want to save it to disk so you can load it later instead of training it again. Obviously, it's impractical to train a network every time you need one. In practice, you'll train it once, save the model, then reload it for further training or making predictions. In the next part, I'll show you how to save and load trained models."
   ]
  }
 ],
 "metadata": {
  "kernelspec": {
   "display_name": "Python 3",
   "language": "python",
   "name": "python3"
  },
  "language_info": {
   "codemirror_mode": {
    "name": "ipython",
    "version": 3
   },
   "file_extension": ".py",
   "mimetype": "text/x-python",
   "name": "python",
   "nbconvert_exporter": "python",
   "pygments_lexer": "ipython3",
   "version": "3.6.6"
  }
 },
 "nbformat": 4,
 "nbformat_minor": 2
}
